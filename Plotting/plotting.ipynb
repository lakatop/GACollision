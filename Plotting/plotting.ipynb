{
 "cells": [
  {
   "cell_type": "code",
   "execution_count": null,
   "metadata": {},
   "outputs": [],
   "source": [
    "import os\n",
    "\n",
    "import pandas as pd\n",
    "import numpy as np\n",
    "import matplotlib.pyplot as plt\n",
    "import seaborn as sns\n",
    "\n",
    "main_directory = \"Runs\"\n",
    "\n",
    "directories = [\n",
    "    \"straightLine\",\n",
    "    \"smallObstacle\",\n",
    "    \"oppositeMultipleAgents\",\n",
    "    \"oppositeCircleAgents\",\n",
    "    \"oppositeAgents\",\n",
    "    \"narrowCoridorsOppositeNoNavmeshScenario\",\n",
    "    \"narrowCoridorOpposite\",\n",
    "    \"cornerSingle\",\n",
    "]\n",
    "\n",
    "runs = [\n",
    "    name\n",
    "    for name in os.listdir(main_directory)\n",
    "    if os.path.isdir(os.path.join(main_directory, name))\n",
    "]\n",
    "\n",
    "runs_dfs = []"
   ]
  },
  {
   "cell_type": "code",
   "execution_count": null,
   "metadata": {},
   "outputs": [],
   "source": [
    "for run in runs:\n",
    "    new_directory = main_directory + \"/\" + run + \"/\" + \"Averages\"\n",
    "    if not os.path.exists(new_directory):\n",
    "        os.makedirs(new_directory)\n",
    "    scenarios_dfs = []\n",
    "    for directory in directories:\n",
    "        path = main_directory + \"/\" + run + \"/\" + directory\n",
    "\n",
    "        # Get list of CSV files in the directory\n",
    "        csv_files = [\n",
    "            os.path.join(path, file)\n",
    "            for file in os.listdir(path)\n",
    "            if file.endswith(\".csv\")\n",
    "        ]\n",
    "        # Read CSV files into a list of DataFrames\n",
    "        dfs = [pd.read_csv(file) for file in csv_files]\n",
    "        # Add agent_id column to each DataFrame based on filename\n",
    "        for i, df in enumerate(dfs):\n",
    "            df[\"agent_id\"] = i\n",
    "            \n",
    "        dfs = pd.concat(dfs, ignore_index=True)\n",
    "        dfs[\"run_id\"] = run\n",
    "        dfs[\"scenario\"] = directory\n",
    "        \n",
    "        scenarios_dfs.append(dfs)\n",
    "    scenarios_dfs = pd.concat(scenarios_dfs, ignore_index=True)\n",
    "    runs_dfs.append(scenarios_dfs)\n"
   ]
  },
  {
   "cell_type": "code",
   "execution_count": null,
   "metadata": {},
   "outputs": [],
   "source": [
    "# Prints violin plots for each scenario in each run.\n",
    "for run_df in runs_dfs:\n",
    "    for scenario in directories:\n",
    "        scenario_df = run_df[run_df[\"scenario\"] == scenario]\n",
    "        scenario_df = scenario_df.drop(columns=[\"scenario\", \"agent_id\", \"run_id\"])\n",
    "        for column in scenario_df.columns:\n",
    "            sns.violinplot(data=scenario_df[column])\n",
    "            plt.title(run_df[\"run_id\"].iloc[0] + \" \" + scenario)\n",
    "            plt.show()"
   ]
  },
  {
   "cell_type": "code",
   "execution_count": null,
   "metadata": {},
   "outputs": [],
   "source": [
    "# Prints violin plots for each scenario-column combination. X axis is the run_id\n",
    "scenarios_data = []\n",
    "for scenario in directories:\n",
    "    extracted_data = [df[df[\"scenario\"] == scenario] for df in runs_dfs]\n",
    "    extracted_data = pd.concat(extracted_data, ignore_index=True)\n",
    "    scenarios_data.append(extracted_data)\n",
    "\n",
    "for scenario in scenarios_data:\n",
    "    for column in scenario.columns:\n",
    "        if column == \"run_id\" or column == \"scenario\" or column == \"agent_id\":\n",
    "            continue\n",
    "        sns.violinplot(x=\"run_id\", y=scenario[column], data=scenario)\n",
    "        plt.title(f\"{scenario['scenario'][0]} - {column}\")\n",
    "        plt.xticks(range(len(runs)), [f'Run {runs[i]}' for i in range(len(runs))], rotation=45)\n",
    "        plt.show()\n",
    "        # plt.savefig(main_directory + \"/Averages/\" + scenario + \"_\" + column + \".png\")\n",
    "        plt.close()\n",
    "\n",
    "print(extracted_data)"
   ]
  }
 ],
 "metadata": {
  "kernelspec": {
   "display_name": "venv",
   "language": "python",
   "name": "python3"
  },
  "language_info": {
   "codemirror_mode": {
    "name": "ipython",
    "version": 3
   },
   "file_extension": ".py",
   "mimetype": "text/x-python",
   "name": "python",
   "nbconvert_exporter": "python",
   "pygments_lexer": "ipython3",
   "version": "3.9.6"
  }
 },
 "nbformat": 4,
 "nbformat_minor": 2
}
