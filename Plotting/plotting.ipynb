{
 "cells": [
  {
   "cell_type": "code",
   "execution_count": 271,
   "metadata": {},
   "outputs": [
    {
     "name": "stdout",
     "output_type": "stream",
     "text": [
      "['cpMut_06', 'straightFinish_03', 'cpMut_09', 'controlCross_03', 'shuffleMut_09', 'baseline', 'shuffleMut_06', 'iterations_10', 'popSize_20', 'smoothAccMut_03', 'straightFinish_06', 'controlCross_06', 'iterations_5', 'smoothAcc_06', 'popSize_50']\n"
     ]
    }
   ],
   "source": [
    "import os\n",
    "\n",
    "import pandas as pd\n",
    "import numpy as np\n",
    "import matplotlib.pyplot as plt\n",
    "import seaborn as sns\n",
    "\n",
    "main_directory = \"Runs\"\n",
    "\n",
    "directories = [\n",
    "    \"straightLine\",\n",
    "    \"smallObstacle\",\n",
    "    \"oppositeMultipleAgents\",\n",
    "    \"oppositeCircleAgents\",\n",
    "    \"oppositeAgents\",\n",
    "    \"narrowCoridorsOppositeNoNavmeshScenario\",\n",
    "    \"narrowCoridorOpposite\",\n",
    "    \"cornerSingle\",\n",
    "]\n",
    "\n",
    "runs = [\n",
    "    name\n",
    "    for name in os.listdir(main_directory)\n",
    "    if os.path.isdir(os.path.join(main_directory, name))\n",
    "]\n",
    "\n",
    "print(runs)\n",
    "\n",
    "runs_dfs = []"
   ]
  },
  {
   "cell_type": "code",
   "execution_count": 272,
   "metadata": {},
   "outputs": [],
   "source": [
    "for run in runs:\n",
    "    scenarios_dfs = []\n",
    "    for directory in directories:\n",
    "        path = main_directory + \"/\" + run + \"/\" + directory\n",
    "        # Get list of CSV files in the directory\n",
    "        csv_files = [\n",
    "            os.path.join(path, file)\n",
    "            for file in os.listdir(path)\n",
    "            if file.endswith(\".csv\")\n",
    "        ]\n",
    "        # Read CSV files into a list of DataFrames\n",
    "        dfs = [pd.read_csv(file) for file in csv_files]\n",
    "        # Add agent_id column to each DataFrame based on filename\n",
    "        for i, df in enumerate(dfs):\n",
    "            df[\"agent_id\"] = i\n",
    "            \n",
    "        \n",
    "        dfs = pd.concat(dfs, ignore_index=True)\n",
    "        dfs[\"run_id\"] = run\n",
    "        dfs[\"scenario\"] = directory\n",
    "        \n",
    "        scenarios_dfs.append(dfs)\n",
    "    scenarios_dfs = pd.concat(scenarios_dfs, ignore_index=True)\n",
    "    runs_dfs.append(scenarios_dfs)\n"
   ]
  },
  {
   "cell_type": "code",
   "execution_count": 273,
   "metadata": {},
   "outputs": [],
   "source": [
    "# # Prints violin plots for each scenario in each run.\n",
    "# for run_df in runs_dfs:\n",
    "#     for scenario in directories:\n",
    "#         scenario_df = run_df[run_df[\"scenario\"] == scenario]\n",
    "#         scenario_df = scenario_df.drop(columns=[\"scenario\", \"agent_id\", \"run_id\"])\n",
    "#         for column in scenario_df.columns:\n",
    "#             sns.violinplot(data=scenario_df[column])\n",
    "#             plt.title(run_df[\"run_id\"].iloc[0] + \" \" + scenario)\n",
    "#             plt.show()"
   ]
  },
  {
   "cell_type": "code",
   "execution_count": 280,
   "metadata": {},
   "outputs": [],
   "source": [
    "# Prints violin plots for each scenario-column combination. X axis is the run_id\n",
    "scenarios_data = []\n",
    "for scenario in directories:\n",
    "    extracted_data = [df[df[\"scenario\"] == scenario] for df in runs_dfs]\n",
    "    extracted_data = pd.concat(extracted_data, ignore_index=True)\n",
    "    scenarios_data.append(extracted_data)\n",
    "\n",
    "# print(scenarios_data)\n",
    "\n",
    "for scenario in scenarios_data:\n",
    "    for column in scenario.columns:\n",
    "        if column == \"run_id\" or column == \"scenario\" or column == \"agent_id\":\n",
    "            continue\n",
    "        my_order = scenario.groupby(by=[\"run_id\"])[column].median().sort_values().index\n",
    "        sns.violinplot(x=\"run_id\", y=scenario[column], data=scenario, order=my_order)\n",
    "        plt.title(f\"{scenario['scenario'][0]} - {column}\")\n",
    "        plt.xticks(rotation=90)\n",
    "        # plt.show()\n",
    "        plotPath = main_directory + \"/RunsPlots/\" + scenario['scenario'][0] + \"_\" + column + \".png\"\n",
    "        plt.tight_layout()\n",
    "        plt.savefig(plotPath)\n",
    "        plt.close()\n",
    "\n",
    "# print(extracted_data)"
   ]
  }
 ],
 "metadata": {
  "kernelspec": {
   "display_name": "venv",
   "language": "python",
   "name": "python3"
  },
  "language_info": {
   "codemirror_mode": {
    "name": "ipython",
    "version": 3
   },
   "file_extension": ".py",
   "mimetype": "text/x-python",
   "name": "python",
   "nbconvert_exporter": "python",
   "pygments_lexer": "ipython3",
   "version": "3.9.6"
  }
 },
 "nbformat": 4,
 "nbformat_minor": 2
}
